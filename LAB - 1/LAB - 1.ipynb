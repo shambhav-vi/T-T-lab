{
  "nbformat": 4,
  "nbformat_minor": 0,
  "metadata": {
    "colab": {
      "name": "1905710 LAB - 1.ipynb",
      "provenance": []
    },
    "kernelspec": {
      "name": "python3",
      "display_name": "Python 3"
    },
    "language_info": {
      "name": "python"
    }
  },
  "cells": [
    {
      "cell_type": "markdown",
      "source": [
        "**1905710 SHAMBHAVI**\n",
        "\n",
        "## LAB - 1\n",
        "\n",
        "\n"
      ],
      "metadata": {
        "id": "MPm0i8j8t19L"
      }
    },
    {
      "cell_type": "markdown",
      "source": [
        "1) Write a Python program(WAPP) to input any two integers, and provide a menu to the\n",
        "user to select any of the options as add, subtract, multiply, divide and display the result\n",
        "accordingly."
      ],
      "metadata": {
        "id": "3HkC9Hps-f0H"
      }
    },
    {
      "cell_type": "code",
      "execution_count": null,
      "metadata": {
        "colab": {
          "base_uri": "https://localhost:8080/"
        },
        "id": "XI7xbKjd92N2",
        "outputId": "ecb350c3-4967-4332-f218-8bf956626caa"
      },
      "outputs": [
        {
          "output_type": "stream",
          "name": "stdout",
          "text": [
            "Enter first no.: 23\n",
            "+\n",
            "-\n",
            "*\n",
            "/\n",
            "Pick an operator: -\n",
            "Enter second no.: 21\n",
            "23 - 21 = 2\n"
          ]
        }
      ],
      "source": [
        "operation = [ '+', '-', '*', '/']\n",
        "def calculator(n1, op, n2):\n",
        "    for operator in operation:\n",
        "        if op == operator:\n",
        "            if operator == '+':\n",
        "                return n1 + n2\n",
        "            if operator == '-':\n",
        "                return n1 - n2\n",
        "            if operator == '*':\n",
        "                return n1 * n2\n",
        "            if operator == '/':\n",
        "                return n1 / n2\n",
        "            else:\n",
        "                return \"Invalid operator\"\n",
        "num1 = int(input(\"Enter first no.: \"))\n",
        "for i in operation:\n",
        "    print(i)\n",
        "choosen_operator = input(\"Pick an operator: \")\n",
        "num2 = int(input(\"Enter second no.: \"))\n",
        "print(f\"{num1} {choosen_operator} {num2} = {calculator(num1, choosen_operator, num2)}\")"
      ]
    },
    {
      "cell_type": "markdown",
      "source": [
        "2) WAPP to check if a year is leap year or not."
      ],
      "metadata": {
        "id": "jPwRBgjm-deB"
      }
    },
    {
      "cell_type": "code",
      "source": [
        "\n",
        "year = int(input(\"Which year do you want to check? \"))\n",
        "\n",
        "if year%4 == 0:\n",
        "    if year%100 == 0:\n",
        "        if year%400 == 0:\n",
        "            print(\"Leap year.\")\n",
        "        else:\n",
        "            print(\"Not leap year.\")\n",
        "    else:\n",
        "         print(\"Leap year.\")\n",
        "else:\n",
        "    print(\"Not leap year.\")\n",
        "\n",
        "\n"
      ],
      "metadata": {
        "colab": {
          "base_uri": "https://localhost:8080/"
        },
        "id": "5UMcCR5b_Lxx",
        "outputId": "05ba4a6f-653e-4557-a034-c2e91fc98f7a"
      },
      "execution_count": null,
      "outputs": [
        {
          "output_type": "stream",
          "name": "stdout",
          "text": [
            "Which year do you want to check? 2022\n",
            "Not leap year.\n"
          ]
        }
      ]
    },
    {
      "cell_type": "markdown",
      "source": [
        "3) WAPP to convert temperature from centigrade to Fahrenheit scale."
      ],
      "metadata": {
        "id": "uiZbRIQCAHkj"
      }
    },
    {
      "cell_type": "code",
      "source": [
        "centigrade = float(input(\"Enter temp in centigrade: \"))\n",
        "fahrenheit = centigrade * 1.8 + 32\n",
        "print(f\"{centigrade} C in Fahrenheit is {fahrenheit} F\")"
      ],
      "metadata": {
        "colab": {
          "base_uri": "https://localhost:8080/"
        },
        "id": "DeGWnNTMAWTE",
        "outputId": "2b8f81b3-667d-483a-b13d-993171e5992d"
      },
      "execution_count": null,
      "outputs": [
        {
          "output_type": "stream",
          "name": "stdout",
          "text": [
            "Enter temp in centigrade: 1\n",
            "1.0 C in Fahrenheit is 33.8 F\n"
          ]
        }
      ]
    },
    {
      "cell_type": "markdown",
      "source": [
        "4) WAPP to add two times in hour, minute & second format entered through the\n",
        "keyboard."
      ],
      "metadata": {
        "id": "UVQc3hqyBRfg"
      }
    },
    {
      "cell_type": "code",
      "source": [
        "hour1 = int(input(\"Enter hours: \"))\n",
        "min1 = int(input(\"Enter minutes: \"))\n",
        "sec1 = int(input(\"Enter seconds: \"))\n",
        "hour2 = int(input(\"Enter hours: \"))\n",
        "min2 = int(input(\"Enter minutes: \"))\n",
        "sec2 = int(input(\"Enter seconds: \"))\n",
        "second = sec1 + sec2;\n",
        "minute = min1 + min2 + (second/60);\n",
        "hour = hour1 + hour2 + (minute/60);\n",
        "minute = minute % 60;\n",
        "second = second % 60;\n",
        "print(f\"{hour1} hrs : {min1} min : {sec1} sec + {hour2} hrs : {min2} min : {sec2} sec = {round(hour)} hrs : {round(minute)} min : {second} sec\")\n"
      ],
      "metadata": {
        "colab": {
          "base_uri": "https://localhost:8080/"
        },
        "id": "BzZsNKP0BW9V",
        "outputId": "30ce6ced-5947-4cc9-da58-24e3c1e0f8f0"
      },
      "execution_count": null,
      "outputs": [
        {
          "output_type": "stream",
          "name": "stdout",
          "text": [
            "Enter hours: 5\n",
            "Enter minutes: 90\n",
            "Enter seconds: 60\n",
            "Enter hours: 4\n",
            "Enter minutes: 30\n",
            "Enter seconds: 20\n",
            "5 hrs : 90 min : 60 sec + 4 hrs : 30 min : 20 sec = 11 hrs : 1 min : 20 sec\n"
          ]
        }
      ]
    },
    {
      "cell_type": "markdown",
      "source": [
        "5) WAPP to check if the given number is Armstrong or not."
      ],
      "metadata": {
        "id": "Y6WEvgk6II3f"
      }
    },
    {
      "cell_type": "code",
      "source": [
        "num = int(input(\"Enter a number: \"))\n",
        "order = len(str(num))\n",
        "\n",
        "sum = 0\n",
        "temp = num\n",
        "while temp > 0:\n",
        "   digit = temp % 10\n",
        "   sum += digit ** order\n",
        "   temp //= 10\n",
        "\n",
        "if num == sum:\n",
        "   print(num,\"is an Armstrong number\")\n",
        "else:\n",
        "   print(num,\"is not an Armstrong number\")"
      ],
      "metadata": {
        "colab": {
          "base_uri": "https://localhost:8080/"
        },
        "id": "OQyGqEc6IRnr",
        "outputId": "8bf4506a-a6a3-4de9-d29e-e01d89d147e1"
      },
      "execution_count": null,
      "outputs": [
        {
          "output_type": "stream",
          "name": "stdout",
          "text": [
            "Enter a number: 135\n",
            "135 is not an Armstrong number\n"
          ]
        }
      ]
    },
    {
      "cell_type": "markdown",
      "source": [
        "6) WAPP to find out the factors of a number."
      ],
      "metadata": {
        "id": "dk83zuGwKCL5"
      }
    },
    {
      "cell_type": "code",
      "source": [
        "num = int(input(\"Enter a number: \"))\n",
        "factors = []\n",
        "\n",
        "for i in range(1, num + 1):\n",
        "    if num % i == 0:\n",
        "        factors.append(i)\n",
        "\n",
        "print(f\"The factors of {num} are:\")\n",
        "for i in factors:\n",
        "  print(i, end = \" \")\n",
        "     \n",
        "\n"
      ],
      "metadata": {
        "colab": {
          "base_uri": "https://localhost:8080/"
        },
        "id": "2tKJJoTMKGO1",
        "outputId": "a76d8932-4097-4c52-ba15-aa0dc1946233"
      },
      "execution_count": null,
      "outputs": [
        {
          "output_type": "stream",
          "name": "stdout",
          "text": [
            "Enter a number: 22\n",
            "The factors of 22 are:\n",
            "1 2 11 22 "
          ]
        }
      ]
    },
    {
      "cell_type": "markdown",
      "source": [
        "\n",
        "\n",
        "7) WAPP to print all even numbers between 100 to 200 using a loop.\n",
        "\n"
      ],
      "metadata": {
        "id": "bLzlk_FRMJ2J"
      }
    },
    {
      "cell_type": "code",
      "source": [
        "for i in range(100, 201):\n",
        "  if i%2 == 0:\n",
        "    print(i, end = \" \")"
      ],
      "metadata": {
        "colab": {
          "base_uri": "https://localhost:8080/"
        },
        "id": "PIT8QvsGMYTU",
        "outputId": "bab816d5-f48d-4a73-bace-56d0c1a0ab59"
      },
      "execution_count": null,
      "outputs": [
        {
          "output_type": "stream",
          "name": "stdout",
          "text": [
            "100 102 104 106 108 110 112 114 116 118 120 122 124 126 128 130 132 134 136 138 140 142 144 146 148 150 152 154 156 158 160 162 164 166 168 170 172 174 176 178 180 182 184 186 188 190 192 194 196 198 200 "
          ]
        }
      ]
    },
    {
      "cell_type": "markdown",
      "source": [
        "8) WAPP to find LCM of 2 numbers using a while loop."
      ],
      "metadata": {
        "id": "UvE3OYfVLo5o"
      }
    },
    {
      "cell_type": "code",
      "source": [
        "num1 = int(input(\"Enter num1: \"))\n",
        "num2 = int(input(\"Enter num2: \"))\n",
        "lcm = 0\n",
        "\n",
        "if num1 > num2:\n",
        "    greater = num1\n",
        "    if greater % num2 != 0:\n",
        "      lcm = num1 * num2\n",
        "else:\n",
        "    greater = num2\n",
        "    if greater % num1 != 0:\n",
        "      lcm = num1 * num2\n",
        "    \n",
        "\n",
        "while(True):\n",
        "    if lcm > 0:\n",
        "      break\n",
        "    if((greater % num1 == 0) and (greater % num1 == 0)):\n",
        "        lcm = greater\n",
        "        break\n",
        "    greater += 1\n",
        "\n",
        "print(f\"The L.C.M. of {num1} and {num2} is {lcm}\")"
      ],
      "metadata": {
        "colab": {
          "base_uri": "https://localhost:8080/"
        },
        "id": "o9cwnsQ3MyXk",
        "outputId": "59f5947d-2cb9-4601-fe54-67d2703d0a78"
      },
      "execution_count": null,
      "outputs": [
        {
          "output_type": "stream",
          "name": "stdout",
          "text": [
            "Enter num1: 4\n",
            "Enter num2: 9\n",
            "The L.C.M. of 4 and 9 is 36\n"
          ]
        }
      ]
    },
    {
      "cell_type": "markdown",
      "source": [
        "9) WAPP to find out the distance between two coordinates (x1, y1) & (x2, y2)."
      ],
      "metadata": {
        "id": "t8qBxNTgTalz"
      }
    },
    {
      "cell_type": "code",
      "source": [
        "import math\n",
        "\n",
        "x1 = int(input(\"Enter x1: \"))\n",
        "y1 = int(input(\"Enter y1: \"))\n",
        "x2 = int(input(\"Enter x2: \"))\n",
        "y2 = int(input(\"Enter y2: \"))\n",
        "\n",
        "distance = math.sqrt(((x2 - x1) ** 2) + ((y2 - y1) ** 2))\n",
        "\n",
        "print(f\" Distance between ({x1}, {y1}) and ({x2}, {y2}) = {round(distance)}\")"
      ],
      "metadata": {
        "colab": {
          "base_uri": "https://localhost:8080/"
        },
        "id": "Rwj5JyNHTfaK",
        "outputId": "fc1738b4-e07e-45a3-de7d-ab93ff5e63fc"
      },
      "execution_count": null,
      "outputs": [
        {
          "output_type": "stream",
          "name": "stdout",
          "text": [
            "Enter x1: 2\n",
            "Enter y1: 3\n",
            "Enter x2: 7\n",
            "Enter y2: 8\n",
            " Distance between (2, 3) and (7, 8) = 7\n"
          ]
        }
      ]
    },
    {
      "cell_type": "markdown",
      "source": [
        "10) WAPP to find the multiplication table of any number using a for loop."
      ],
      "metadata": {
        "id": "nFLJAkS7U6e5"
      }
    },
    {
      "cell_type": "code",
      "source": [
        "num = int(input(\"Enter a number: \"))\n",
        "for i in range(1, 11):\n",
        "  print(f\"{num} x {i} = {num*i}\")"
      ],
      "metadata": {
        "colab": {
          "base_uri": "https://localhost:8080/"
        },
        "id": "-zhQ957KVAyr",
        "outputId": "61201012-ed7e-486a-bad3-ccf5accec9bc"
      },
      "execution_count": null,
      "outputs": [
        {
          "output_type": "stream",
          "name": "stdout",
          "text": [
            "Enter a number: 2\n",
            "2 x 1 = 2\n",
            "2 x 2 = 4\n",
            "2 x 3 = 6\n",
            "2 x 4 = 8\n",
            "2 x 5 = 10\n",
            "2 x 6 = 12\n",
            "2 x 7 = 14\n",
            "2 x 8 = 16\n",
            "2 x 9 = 18\n",
            "2 x 10 = 20\n"
          ]
        }
      ]
    },
    {
      "cell_type": "markdown",
      "source": [
        "11) WAPP to find Volume and Surface Area of Cylinder."
      ],
      "metadata": {
        "id": "MygYey1QVX-F"
      }
    },
    {
      "cell_type": "code",
      "source": [
        "radius = float(input(\"Enter radius: \"))\n",
        "height = float(input(\"Enter height: \"))\n",
        "\n",
        "volume = 3.14 * (radius ** 2) * height\n",
        "surface_area = (2 * 3.14 * radius * height) + (2 * 3.14 * (radius ** 2))\n",
        "\n",
        "print(f\"Volume of cylinder = {round(volume, 2)}\\nSurface area of cylinder = {round(surface_area, 2)} \")"
      ],
      "metadata": {
        "colab": {
          "base_uri": "https://localhost:8080/"
        },
        "id": "kcjXTa89VcBv",
        "outputId": "9fee2598-7d4a-4d02-b4f3-b322b51e948f"
      },
      "execution_count": null,
      "outputs": [
        {
          "output_type": "stream",
          "name": "stdout",
          "text": [
            "Enter radius: 2\n",
            "Enter height: 6\n",
            "Volume of cylinder = 75.36\n",
            "Surface area of cylinder = 100.48 \n"
          ]
        }
      ]
    },
    {
      "cell_type": "markdown",
      "source": [
        "12) WAPP to find the roots of a quadratic equation ax2+bx+c=0."
      ],
      "metadata": {
        "id": "_tASYkK3WtUM"
      }
    },
    {
      "cell_type": "code",
      "source": [
        "import math \n",
        "\n",
        "a = int(input(\"Enter a: \"))\n",
        "b = int(input(\"Enter b: \"))\n",
        "c = int(input(\"Enter c: \"))\n",
        " \n",
        "if a == 0:\n",
        "   print(\"Invalid\")\n",
        "\n",
        "d = b * b - 4 * a * c\n",
        "sqrt_val = math.sqrt(abs(d))\n",
        " \n",
        "if d > 0:\n",
        "  print(\"Roots are real and different \")\n",
        "  print((-b + sqrt_val)/(2 * a))\n",
        "  print((-b - sqrt_val)/(2 * a))\n",
        "elif d == 0:\n",
        "  print(\"Roots are real and same\")\n",
        "  print(-b / (2*a))\n",
        "else:  \n",
        "  print(\"Roots are complex\")\n",
        "  print(- b / (2*a), \" + i\", round(sqrt_val, 2))\n",
        "  print(- b / (2*a), \" - i\", round(sqrt_val, 2))"
      ],
      "metadata": {
        "colab": {
          "base_uri": "https://localhost:8080/"
        },
        "id": "pmisw2pgW1ll",
        "outputId": "90999e64-8b78-4566-d9a9-06266abace40"
      },
      "execution_count": null,
      "outputs": [
        {
          "output_type": "stream",
          "name": "stdout",
          "text": [
            "Enter a: 2\n",
            "Enter b: 3\n",
            "Enter c: 7\n",
            "Roots are complex\n",
            "-0.75  + i 6.86\n",
            "-0.75  - i 6.86\n"
          ]
        }
      ]
    },
    {
      "cell_type": "markdown",
      "source": [
        "13) WAPP to enter your marks and credit of course of any 5 courses of 2 semesters\n",
        "through keyboard print the corresponding grade.\n",
        "Calculate SGPA for each semester and overall CGPA."
      ],
      "metadata": {
        "id": "9Z1u8t1xYaQe"
      }
    },
    {
      "cell_type": "code",
      "source": [
        "marks1 = []\n",
        "marks2 = []\n",
        "credits1 =[]\n",
        "credits2 = []\n",
        "credit_point1 = 0\n",
        "credit_point2 = 0\n",
        "\n",
        "print(\"Enter marks and credits for semester 1: \")\n",
        "for i in range(1, 6):\n",
        "  m = int(input(f\"\\nMarks for Subject {i}: \"))\n",
        "  marks1.append(m)\n",
        "  c = int(input(f\"Credit for Subject {i}: \"))\n",
        "  credits1.append(c)\n",
        "\n",
        "for i in range(5):\n",
        "  credit_point1 += marks1[i] * credits1[i]\n",
        "  \n",
        "sgpa1 = round(credit_point1/(10*sum(credits1)), 2)\n",
        "\n",
        "print(f\"\\nSGPA for Semester 1 = {sgpa1}\")\n",
        "\n",
        "print(\"\\nEnter marks and credits for semester 2: \")\n",
        "for i in range(1, 6):\n",
        "  m = int(input(f\"\\nMarks for Subject {i}: \"))\n",
        "  marks2.append(m)\n",
        "  c = int(input(f\"Credit for Subject {i}: \"))\n",
        "  credits2.append(c)\n",
        "\n",
        "for i in range(5):\n",
        "  credit_point2 += marks2[i] * credits2[i]\n",
        "  \n",
        "sgpa2 = round(credit_point2/(10*sum(credits2)), 2)\n",
        "\n",
        "print(f\"\\nSGPA for Semester 2 = {sgpa2}\")\n",
        "\n",
        "cgpa = round((credit_point1 + credit_point2)/(10*(sum(credits1) + sum(credits2))), 2)\n",
        "\n",
        "print(f\"\\nCGPA = {cgpa}\")"
      ],
      "metadata": {
        "id": "8AQNbPaMYkvH",
        "colab": {
          "base_uri": "https://localhost:8080/"
        },
        "outputId": "cd92abe1-fb01-455a-ae8f-b5533f365c34"
      },
      "execution_count": 9,
      "outputs": [
        {
          "output_type": "stream",
          "name": "stdout",
          "text": [
            "Enter marks and credits for semester 1: \n",
            "\n",
            "Marks for Subject 1: 95\n",
            "Credit for Subject 1: 3\n",
            "\n",
            "Marks for Subject 2: 90\n",
            "Credit for Subject 2: 3\n",
            "\n",
            "Marks for Subject 3: 99\n",
            "Credit for Subject 3: 4\n",
            "\n",
            "Marks for Subject 4: 91\n",
            "Credit for Subject 4: 3\n",
            "\n",
            "Marks for Subject 5: 97\n",
            "Credit for Subject 5: 4\n",
            "\n",
            "SGPA for Semester 1 = 9.48\n",
            "\n",
            "Enter marks and credits for semester 2: \n",
            "\n",
            "Marks for Subject 1: 98\n",
            "Credit for Subject 1: 3\n",
            "\n",
            "Marks for Subject 2: 99\n",
            "Credit for Subject 2: 2\n",
            "\n",
            "Marks for Subject 3: 95\n",
            "Credit for Subject 3: 4\n",
            "\n",
            "Marks for Subject 4: 90\n",
            "Credit for Subject 4: 3\n",
            "\n",
            "Marks for Subject 5: 96\n",
            "Credit for Subject 5: 3\n",
            "\n",
            "SGPA for Semester 2 = 9.53\n",
            "\n",
            "CGPA = 9.51\n"
          ]
        }
      ]
    },
    {
      "cell_type": "markdown",
      "source": [
        "14) A student will not be allowed to sit an exam if his/her attendance is less than 70%.\n",
        "Take following input from user:\n",
        "● Number of classes held\n",
        "● Number of classes attended\n",
        "Print percentage of class attended and check if the student is allowed to sit in the\n",
        "exam or not."
      ],
      "metadata": {
        "id": "lI09bYpzYsMw"
      }
    },
    {
      "cell_type": "code",
      "source": [
        "no_class_held = int(input(\"Enter no. of classes: \"))\n",
        "no_class_attnd = int(input(\"Enter no. of classes attended: \"))\n",
        "\n",
        "percentage = round((no_class_attnd / no_class_held) * 100)\n",
        "\n",
        "if percentage < 70:\n",
        "  print(\"You are not allowed to sit for exam.\")\n",
        "else:\n",
        "  print(\"You are allowed to sit for exam.\")\n"
      ],
      "metadata": {
        "colab": {
          "base_uri": "https://localhost:8080/"
        },
        "id": "i_8dLHmBYwnP",
        "outputId": "864a7185-ee31-46fa-ec46-772b7e64c332"
      },
      "execution_count": null,
      "outputs": [
        {
          "output_type": "stream",
          "name": "stdout",
          "text": [
            "Enter no. of classes: 5\n",
            "Enter no. of classes attended: 2\n",
            "You are not allowed to sit for exam.\n"
          ]
        }
      ]
    },
    {
      "cell_type": "markdown",
      "source": [
        "15) High Radius Company decided to give a bonus of 10% to employees if his/her year of\n",
        "service is more than 5 years.\n",
        "● Enter salary and year of service from the keyboard and print the net bonus amount.\n",
        "● Determine oldest and youngest among 3 employees by taking input(from user) of\n",
        "their age."
      ],
      "metadata": {
        "id": "bKbw1uYTZplI"
      }
    },
    {
      "cell_type": "code",
      "source": [
        "salary = float(input(\"Enter salary: \"))\n",
        "year_service = int(input(\"Enter years of service: \"))\n",
        "age = []\n",
        "bonus = salary * 0.1\n",
        "\n",
        "if year_service > 5:\n",
        "  print(f\"\\nBonus = {round(bonus, 2)}\")\n",
        "  print(f\"Total salary = Rs {salary + round(bonus, 2)}\")\n",
        "\n",
        "for i in range(1, 4):\n",
        "  a = int(input(f\"\\nEnter age of Employee {i}: \"))\n",
        "  age.append(a)\n",
        "\n",
        "age.sort()\n",
        "print(\"\\nYoungest employee age = \", age[0])\n",
        "print(\"Oldest employee age= \", age[2])\n",
        "\n",
        "\n"
      ],
      "metadata": {
        "colab": {
          "base_uri": "https://localhost:8080/"
        },
        "id": "sWL-H8-UZsfB",
        "outputId": "9a19b7a6-8776-48c3-e980-4ba9ad4a7aef"
      },
      "execution_count": 10,
      "outputs": [
        {
          "output_type": "stream",
          "name": "stdout",
          "text": [
            "Enter salary: 346788\n",
            "Enter years of service: 7\n",
            "\n",
            "Bonus = 34678.8\n",
            "Total salary = Rs 381466.8\n",
            "Enter age of Employee 1: 45\n",
            "Enter age of Employee 2: 78\n",
            "Enter age of Employee 3: 23\n",
            "Youngest =  23\n",
            "Oldest =  78\n"
          ]
        }
      ]
    },
    {
      "cell_type": "markdown",
      "source": [
        "16) WAPP to convert a quantity in meter entered through keyboard into its equivalent\n",
        "kilometre and meter as per the following format.\n",
        "Example. 2430 meter = 2 Km and 430 meter."
      ],
      "metadata": {
        "id": "G_Y9l84AgoZf"
      }
    },
    {
      "cell_type": "code",
      "source": [
        "meter = int(input(\"Enter distance in meters: \"))\n",
        "km = round(meter/1000)\n",
        "meter = meter % 1000\n",
        "print(f\"{km} kilometers {meter} meters\")"
      ],
      "metadata": {
        "colab": {
          "base_uri": "https://localhost:8080/"
        },
        "id": "AK8H5fqYgwXz",
        "outputId": "d425b5d5-d10c-4451-b3c9-bed73791bdd1"
      },
      "execution_count": 68,
      "outputs": [
        {
          "output_type": "stream",
          "name": "stdout",
          "text": [
            "Enter distance in meters: 2430\n",
            "2 kilometers 430 meters\n"
          ]
        }
      ]
    },
    {
      "cell_type": "markdown",
      "source": [
        "17) WAPP to print the sum of all prime numbers between 1 to n using a loop."
      ],
      "metadata": {
        "id": "GAv274UmZpjS"
      }
    },
    {
      "cell_type": "code",
      "source": [
        "num = int(input(\"Enter a number: \"))\n",
        "temp = 0\n",
        "sum = 0\n",
        "\n",
        "for i in range(2, num+1):\n",
        "  for j in range(2, i):\n",
        "      if i % j == 0:\n",
        "        temp = 1\n",
        "        break\n",
        "  if temp == 0:\n",
        "    sum += i\n",
        "  temp = 0\n",
        "\n",
        "print(\"Sum = \", sum)    "
      ],
      "metadata": {
        "colab": {
          "base_uri": "https://localhost:8080/"
        },
        "id": "ka9bNraih-1R",
        "outputId": "5f604e7b-bb3e-4e32-9647-edd5ad80d940"
      },
      "execution_count": 94,
      "outputs": [
        {
          "output_type": "stream",
          "name": "stdout",
          "text": [
            "Enter a number: 10\n",
            "Sum =  17\n"
          ]
        }
      ]
    },
    {
      "cell_type": "markdown",
      "source": [
        "18) WAPP to display the reverse of a number entered through the keyboard."
      ],
      "metadata": {
        "id": "xJzDIJEylzHG"
      }
    },
    {
      "cell_type": "code",
      "source": [
        "num = input(\"Enter a number: \")\n",
        "reverse = num[::-1]\n",
        "print(\"Reverse = \", int(reverse))"
      ],
      "metadata": {
        "colab": {
          "base_uri": "https://localhost:8080/"
        },
        "id": "iyggj1SGl1Tz",
        "outputId": "5011aa59-53a8-4c7a-adb0-0aec3945be3c"
      },
      "execution_count": 76,
      "outputs": [
        {
          "output_type": "stream",
          "name": "stdout",
          "text": [
            "Enter a number: 2346\n",
            "Reverse =  6432\n"
          ]
        }
      ]
    },
    {
      "cell_type": "markdown",
      "source": [
        "19) WAPP to convert a decimal number into its equivalent number with base b.\n",
        "Decimal number and b are the user input."
      ],
      "metadata": {
        "id": "Er1H_hAlmjyy"
      }
    },
    {
      "cell_type": "code",
      "source": [
        "num = int(input(\"Enter a number: \"))\n",
        "base = int(input(\"Enter base: \"))\n",
        "\n",
        "if base == 2:\n",
        "    print(\"Binary : \", bin(num))\n",
        "elif base == 8:\n",
        "    print(\"Octal : \", oct(num))\n",
        "elif base == 16:\n",
        "    print(\"Hexadecimal : \", hex(num))\n",
        "else:\n",
        "  print(\"Invalid base.\")\n"
      ],
      "metadata": {
        "colab": {
          "base_uri": "https://localhost:8080/"
        },
        "id": "jZJlVSGxmwKd",
        "outputId": "28129301-cf32-4bf1-c2e3-e731593ecba8"
      },
      "execution_count": 77,
      "outputs": [
        {
          "output_type": "stream",
          "name": "stdout",
          "text": [
            "Enter a number: 2345\n",
            "Enter base: 8\n",
            "Binary :  0o4451\n"
          ]
        }
      ]
    },
    {
      "cell_type": "markdown",
      "source": [
        "20) WAPP to sum the following series S=1+(1+2)+(1+2+3)+...+(1+2+3+...+n)"
      ],
      "metadata": {
        "id": "pooSwASPpTKx"
      }
    },
    {
      "cell_type": "code",
      "source": [
        "n = int(input(\"Enter n: \"))\n",
        "sum = 0\n",
        "for i in range(1, n + 1):\n",
        "  sum += i*(i+1)/2 \n",
        "\n",
        "print(\"Sum = \", sum)"
      ],
      "metadata": {
        "colab": {
          "base_uri": "https://localhost:8080/"
        },
        "id": "siMtdrSopW9V",
        "outputId": "673cd3db-989e-4569-e41c-657d807c0212"
      },
      "execution_count": 78,
      "outputs": [
        {
          "output_type": "stream",
          "name": "stdout",
          "text": [
            "Enter n: 10\n",
            "Sum =  220.0\n"
          ]
        }
      ]
    }
  ]
}
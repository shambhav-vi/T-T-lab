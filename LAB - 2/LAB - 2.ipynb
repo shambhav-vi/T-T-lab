{
  "nbformat": 4,
  "nbformat_minor": 0,
  "metadata": {
    "colab": {
      "name": "1905710_SHAMBHAVI_LAB - 2.ipynb",
      "provenance": [],
      "collapsed_sections": []
    },
    "kernelspec": {
      "name": "python3",
      "display_name": "Python 3"
    },
    "language_info": {
      "name": "python"
    }
  },
  "cells": [
    {
      "cell_type": "markdown",
      "source": [
        "**1905710 SHAMBHAVI**"
      ],
      "metadata": {
        "id": "amIbpXfpl4x7"
      }
    },
    {
      "cell_type": "markdown",
      "source": [
        "LAB - 2"
      ],
      "metadata": {
        "id": "y2uvX832l4Im"
      }
    },
    {
      "cell_type": "markdown",
      "source": [
        "**STRINGS**"
      ],
      "metadata": {
        "id": "lQpngjrPliby"
      }
    },
    {
      "cell_type": "markdown",
      "source": [
        "1) Write a Python Program to count the number of vowels in a string."
      ],
      "metadata": {
        "id": "wcHl3BSnlqwt"
      }
    },
    {
      "cell_type": "code",
      "execution_count": null,
      "metadata": {
        "colab": {
          "base_uri": "https://localhost:8080/"
        },
        "id": "DCFXhvJ2kmGR",
        "outputId": "a12e2295-14be-4b9b-8aa2-9a5a114a4854"
      },
      "outputs": [
        {
          "output_type": "stream",
          "name": "stdout",
          "text": [
            "Enter a string: Header\n",
            "No. of vowels in Header = 3\n"
          ]
        }
      ],
      "source": [
        "s = input(\"Enter a string: \")\n",
        "vowels = ['a', 'e', 'i', 'o', 'u']\n",
        "count = 0\n",
        "\n",
        "for i in s:\n",
        "  if i in vowels:\n",
        "    count +=1\n",
        "\n",
        "print(f\"No. of vowels in {s} = {count}\")"
      ]
    },
    {
      "cell_type": "markdown",
      "source": [
        "2) Write a Python Program to replace all occurrences of ‘a’ with ‘@’ in a string."
      ],
      "metadata": {
        "id": "vSr_N_R3lhPu"
      }
    },
    {
      "cell_type": "code",
      "source": [
        "s = input(\"Enter a string: \")\n",
        "x = s.replace('a', '@')\n",
        "print(x)"
      ],
      "metadata": {
        "colab": {
          "base_uri": "https://localhost:8080/"
        },
        "id": "ELXgeLuWmzap",
        "outputId": "5d2c43e9-9356-42fc-b9e3-294d17d52c5a"
      },
      "execution_count": null,
      "outputs": [
        {
          "output_type": "stream",
          "name": "stdout",
          "text": [
            "Enter a string: banana\n",
            "b@n@n@\n"
          ]
        }
      ]
    },
    {
      "cell_type": "markdown",
      "source": [
        "3) Write a Python Program to calculate the length of a string without using a\n",
        "library function."
      ],
      "metadata": {
        "id": "ur02k-BzoVGS"
      }
    },
    {
      "cell_type": "code",
      "source": [
        "s = input(\"Enter a string: \")\n",
        "count = 0\n",
        "\n",
        "for i in s:\n",
        "  count += 1\n",
        "\n",
        "print(f'Length of string {s} = {count}')"
      ],
      "metadata": {
        "colab": {
          "base_uri": "https://localhost:8080/"
        },
        "id": "5_-WwXVSohuu",
        "outputId": "881183fd-dfba-4d5e-e9c8-e7b508e40319"
      },
      "execution_count": null,
      "outputs": [
        {
          "output_type": "stream",
          "name": "stdout",
          "text": [
            "Enter a string: Welcome\n",
            "Length of string Welcome = 7\n"
          ]
        }
      ]
    },
    {
      "cell_type": "markdown",
      "source": [
        "4) Write a Python Program to take in two strings and display the smallest string\n",
        "without using the library function."
      ],
      "metadata": {
        "id": "gWBnpMNapPWP"
      }
    },
    {
      "cell_type": "code",
      "source": [
        "s1 = input(\"Enter string 1: \")\n",
        "s2 = input(\"Enter string 2: \")\n",
        "count1 = 0\n",
        "count2 = 0\n",
        "\n",
        "for i in s1:\n",
        "  count1 += 1\n",
        "\n",
        "for i in s2:\n",
        "  count2 += 1\n",
        "if(count1 == count2):\n",
        "  print(f\"{s1} and {s2} are of same length\")\n",
        "else:\n",
        "  print(f\"Smallest string is { s1 if count2 > count1 else s2}\")\n"
      ],
      "metadata": {
        "colab": {
          "base_uri": "https://localhost:8080/"
        },
        "id": "8g7RdKxepOD5",
        "outputId": "5391f984-d7cc-419a-f9ae-7546285fe973"
      },
      "execution_count": null,
      "outputs": [
        {
          "output_type": "stream",
          "name": "stdout",
          "text": [
            "Enter string 1: queen\n",
            "Enter string 2: coconut\n",
            "Smallest string is queen\n"
          ]
        }
      ]
    },
    {
      "cell_type": "markdown",
      "source": [
        "5) Write a Python Program to count the number of lowercase and uppercase letters\n",
        "in a string."
      ],
      "metadata": {
        "id": "HWDLAIkMriwY"
      }
    },
    {
      "cell_type": "code",
      "source": [
        "s = input(\"Enter a string: \")\n",
        "upper = 0\n",
        "lower = 0\n",
        "\n",
        "for i in s:\n",
        "  if i.isupper():\n",
        "    upper += 1\n",
        "  else:\n",
        "    lower += 1\n",
        "\n",
        "print(f'No. of uppercase letters = {upper} \\nNo. of lowercase letters = {lower}')"
      ],
      "metadata": {
        "colab": {
          "base_uri": "https://localhost:8080/"
        },
        "id": "FStAkcVYrnUG",
        "outputId": "cb7fc1db-32ac-43d0-f1c6-f52d03ec3dbc"
      },
      "execution_count": null,
      "outputs": [
        {
          "output_type": "stream",
          "name": "stdout",
          "text": [
            "Enter a string: PinEaPPle\n",
            "No. of uppercase letters = 4 \n",
            "No. of lowercase letters = 5\n"
          ]
        }
      ]
    },
    {
      "cell_type": "markdown",
      "source": [
        "6) Write a Python Program to count the number of digits and characters in a string."
      ],
      "metadata": {
        "id": "g5AXPJkpskpp"
      }
    },
    {
      "cell_type": "code",
      "source": [
        "s = input(\"Enter a string: \")\n",
        "digits = 0\n",
        "letters = 0\n",
        "\n",
        "for i in s:\n",
        "  if i.isnumeric():\n",
        "    digits += 1\n",
        "  else:\n",
        "    letters += 1\n",
        "\n",
        "print(f'No. of digits = {digits} \\nNo. of characters = {letters}')"
      ],
      "metadata": {
        "colab": {
          "base_uri": "https://localhost:8080/"
        },
        "id": "JvvKQg47soeI",
        "outputId": "b23a6925-d40a-4319-e735-54cdb0a109b7"
      },
      "execution_count": null,
      "outputs": [
        {
          "output_type": "stream",
          "name": "stdout",
          "text": [
            "Enter a string: Overlord3for99\n",
            "No. of digits = 3 \n",
            "No. of characters = 11\n"
          ]
        }
      ]
    },
    {
      "cell_type": "markdown",
      "source": [
        "7) Write a Python program to get a string made of the first 3 and the last 3 chars\n",
        "from a given string. If the string length is less than 3, return instead of the\n",
        "empty string."
      ],
      "metadata": {
        "id": "VVGdDln7tmXF"
      }
    },
    {
      "cell_type": "code",
      "source": [
        "def new_string(s):\n",
        "  return s[:3] + s[-3:] if len(s) > 3 else s\n",
        " \n",
        "s = input(\"Enter a string: \")\n",
        "\n",
        "new_string(s)"
      ],
      "metadata": {
        "colab": {
          "base_uri": "https://localhost:8080/",
          "height": 53
        },
        "id": "SVRwdQBvtqYn",
        "outputId": "f563af24-65fd-4a2e-a698-c27278c207d0"
      },
      "execution_count": null,
      "outputs": [
        {
          "name": "stdout",
          "output_type": "stream",
          "text": [
            "Enter a string: atmosphere\n"
          ]
        },
        {
          "output_type": "execute_result",
          "data": {
            "application/vnd.google.colaboratory.intrinsic+json": {
              "type": "string"
            },
            "text/plain": [
              "'atmere'"
            ]
          },
          "metadata": {},
          "execution_count": 21
        }
      ]
    },
    {
      "cell_type": "markdown",
      "source": [
        "8) Write a Python program to count the occurrences of each word in a given string\n",
        "sentence."
      ],
      "metadata": {
        "id": "6DwGf2nfvEcP"
      }
    },
    {
      "cell_type": "code",
      "source": [
        "s = input(\"Enter a sentence: \")\n",
        "count = dict()\n",
        "words = s.lower().split(\" \")\n",
        "\n",
        "for word in words:\n",
        "  if word in count:\n",
        "    count[word] += 1\n",
        "  else:\n",
        "    count[word] = 1\n",
        "\n",
        "for key in count:\n",
        "    print(f\"{key} : {count[key]}\")"
      ],
      "metadata": {
        "colab": {
          "base_uri": "https://localhost:8080/"
        },
        "id": "-JyKe6HLvIBX",
        "outputId": "35d366f8-b048-493a-91be-6b38f1a8ab14"
      },
      "execution_count": null,
      "outputs": [
        {
          "output_type": "stream",
          "name": "stdout",
          "text": [
            "Enter a sentence: One two one two three four\n",
            "one : 2\n",
            "two : 2\n",
            "three : 1\n",
            "four : 1\n"
          ]
        }
      ]
    },
    {
      "cell_type": "markdown",
      "source": [
        "9) Write a Python program to check if a string is Palindrome or not."
      ],
      "metadata": {
        "id": "7sB3wTOZyEFx"
      }
    },
    {
      "cell_type": "code",
      "source": [
        "s = input(\"Enter a string: \")\n",
        "\n",
        "if s == s[::-1]:\n",
        "  print(f\"{s} is Palindrome\" )\n",
        "else:\n",
        "  print(f\"{s} is not Palindrome\" )"
      ],
      "metadata": {
        "colab": {
          "base_uri": "https://localhost:8080/"
        },
        "id": "ePZRneZ1yHn2",
        "outputId": "eadb7b02-e34c-413b-bff0-d2570b78b64d"
      },
      "execution_count": null,
      "outputs": [
        {
          "output_type": "stream",
          "name": "stdout",
          "text": [
            "Enter a string: abbcbba\n",
            "abbcbba is Palindrome\n"
          ]
        }
      ]
    },
    {
      "cell_type": "markdown",
      "source": [
        "10) Write a Python program to reverse a string."
      ],
      "metadata": {
        "id": "E1Md9-Ki0mkl"
      }
    },
    {
      "cell_type": "code",
      "source": [
        "s = input(\"Enter a string: \")\n",
        "\n",
        "print(f\"Reverse of {s} = {''.join(reversed(s))}\")"
      ],
      "metadata": {
        "colab": {
          "base_uri": "https://localhost:8080/"
        },
        "id": "idO28Dv00u07",
        "outputId": "ff152c43-dee0-4391-f491-98c9dc5ffa55"
      },
      "execution_count": null,
      "outputs": [
        {
          "output_type": "stream",
          "name": "stdout",
          "text": [
            "Enter a string: Gangtok\n",
            "Reverse of Gangtok = kotgnaG\n"
          ]
        }
      ]
    },
    {
      "cell_type": "markdown",
      "source": [
        "**LIST**"
      ],
      "metadata": {
        "id": "dlAcXHQp2Pn6"
      }
    },
    {
      "cell_type": "markdown",
      "source": [
        "1) Write a Python Program to find the print sum, average of all numbers,\n",
        "smallest and largest element of a list."
      ],
      "metadata": {
        "id": "awTD1ZoB2Xub"
      }
    },
    {
      "cell_type": "code",
      "source": [
        "l = list(map(int, input(\"Enter numbers: \").split()))\n",
        "\n",
        "print(f\"Sum = {sum(l)}\\nAverage = {sum(l)/len(l)}\\nSmallest element = {min(l)}\\nLargest element = {max(l)}\")"
      ],
      "metadata": {
        "colab": {
          "base_uri": "https://localhost:8080/"
        },
        "id": "FYdhQ--g2bzY",
        "outputId": "f2961670-a198-4ace-f3e9-e9c3dc52f3d4"
      },
      "execution_count": null,
      "outputs": [
        {
          "output_type": "stream",
          "name": "stdout",
          "text": [
            "Enter numbers: 1 2 3 4 5 \n",
            "Sum = 15\n",
            "Average = 3.0\n",
            "Smallest element = 1\n",
            "Largest element = 5\n"
          ]
        }
      ]
    },
    {
      "cell_type": "markdown",
      "source": [
        "2) Write a Python Program to find the 2\n",
        "nd\n",
        "largest and 3\n",
        "rd\n",
        "smallest number in a\n",
        "list.\n",
        "\n"
      ],
      "metadata": {
        "id": "5U-ayPDe5T--"
      }
    },
    {
      "cell_type": "code",
      "source": [
        "l = list(map(int, input(\"Enter numbers: \").split()))\n",
        "l.sort()\n",
        "\n",
        "print(f'2nd largest = {l[-2]}\\n3rd smallest = {l[2]}')"
      ],
      "metadata": {
        "colab": {
          "base_uri": "https://localhost:8080/"
        },
        "id": "HvNBCHw75dls",
        "outputId": "36d0dbf9-2f88-4949-ed65-23554bc6f83e"
      },
      "execution_count": null,
      "outputs": [
        {
          "output_type": "stream",
          "name": "stdout",
          "text": [
            "Enter numbers: 34 12 67 3 5 89 0\n",
            "2nd largest = 67\n",
            "3rd smallest = 5\n"
          ]
        }
      ]
    },
    {
      "cell_type": "markdown",
      "source": [
        "3) Write a Python Program to generate random numbers from 1 to 50 and\n",
        "append them to the list."
      ],
      "metadata": {
        "id": "vUnW1j-Y7E44"
      }
    },
    {
      "cell_type": "code",
      "source": [
        "import random\n",
        "\n",
        "n = int(input(\"Enter no. of elements: \"))\n",
        "l = []\n",
        "\n",
        "for i in range(n):\n",
        "  e = random.randint(1, 50)\n",
        "  l.append(e)\n",
        "\n",
        "print(l)"
      ],
      "metadata": {
        "colab": {
          "base_uri": "https://localhost:8080/"
        },
        "id": "LOUBUENR7Hto",
        "outputId": "0e8688ca-97fe-4592-cf4e-196b9fe0eecf"
      },
      "execution_count": null,
      "outputs": [
        {
          "output_type": "stream",
          "name": "stdout",
          "text": [
            "Enter no. of elements: 6\n",
            "[34, 14, 7, 27, 17, 31]\n"
          ]
        }
      ]
    },
    {
      "cell_type": "markdown",
      "source": [
        "4) Write a Python Program to put even and odd elements in a list into two\n",
        "different lists."
      ],
      "metadata": {
        "id": "jutjwauB75qQ"
      }
    },
    {
      "cell_type": "code",
      "source": [
        "l = list(map(int, input(\"Enter numbers: \").split()))\n",
        "\n",
        "even = []\n",
        "odd = []\n",
        "\n",
        "for i in l:\n",
        "  if i%2 == 0:\n",
        "    even.append(i)\n",
        "  else:\n",
        "    odd.append(i)\n",
        "\n",
        "print(f\"Even no. list = {even}\\nOdd no. list = {odd}\")\n"
      ],
      "metadata": {
        "colab": {
          "base_uri": "https://localhost:8080/"
        },
        "id": "3pODNZQe8CQn",
        "outputId": "9abe5abc-a332-4ae8-c66d-5a844c2a6280"
      },
      "execution_count": null,
      "outputs": [
        {
          "output_type": "stream",
          "name": "stdout",
          "text": [
            "Enter numbers: 23 12 45 67 89 34 0 6 24 56\n",
            "Even no. list = [12, 34, 0, 6, 24, 56]\n",
            "Odd no. list = [23, 45, 67, 89]\n"
          ]
        }
      ]
    },
    {
      "cell_type": "markdown",
      "source": [
        "5) Write a Python Program to merge two lists and sort it."
      ],
      "metadata": {
        "id": "Ko2E2IQY8_co"
      }
    },
    {
      "cell_type": "code",
      "source": [
        "l1 = list(map(int, input(\"Enter numbers: \").split()))\n",
        "l2 = list(map(int, input(\"Enter numbers: \").split()))\n",
        "\n",
        "l = l1 + l2\n",
        "l.sort()\n",
        "print(f\"List 1 = {l1}\\tList 2 = {l2}\\nMerged list & sorted list = {l}\")"
      ],
      "metadata": {
        "colab": {
          "base_uri": "https://localhost:8080/"
        },
        "id": "T5dJVdZo9Ct5",
        "outputId": "1a8c9fe6-ede1-48f5-8107-309f4b4c7ef3"
      },
      "execution_count": null,
      "outputs": [
        {
          "output_type": "stream",
          "name": "stdout",
          "text": [
            "Enter numbers: 23 45 56 \n",
            "Enter numbers: 1 35 67 \n",
            "List 1 = [23, 45, 56]\tList 2 = [1, 35, 67]\n",
            "Merged list & sorted list = [1, 23, 35, 45, 56, 67]\n"
          ]
        }
      ]
    },
    {
      "cell_type": "markdown",
      "source": [
        "6) Write a Python Program to remove the duplicate items from a list."
      ],
      "metadata": {
        "id": "OkQR7KJP_CPp"
      }
    },
    {
      "cell_type": "code",
      "source": [
        "l = list(map(int, input(\"Enter numbers: \").split()))\n",
        "\n",
        "# print(list(set(l)))   Method - 1 (set doesn't allow duplicate)\n",
        "\n",
        "rd = []\n",
        "for i in l:\n",
        "  if i not in rd:\n",
        "    rd.append(i)\n",
        "\n",
        "print(rd)"
      ],
      "metadata": {
        "colab": {
          "base_uri": "https://localhost:8080/"
        },
        "id": "sNQOSqkV_FMg",
        "outputId": "39f9ae50-d581-4c20-8a93-f8fd07624912"
      },
      "execution_count": null,
      "outputs": [
        {
          "output_type": "stream",
          "name": "stdout",
          "text": [
            "Enter numbers: 4 56 23 76 4 56 \n",
            "[4, 56, 23, 76]\n"
          ]
        }
      ]
    },
    {
      "cell_type": "markdown",
      "source": [
        "7) Write a Python Program to take a list of words and print the length of the\n",
        "longest word."
      ],
      "metadata": {
        "id": "73BXmCvmASFa"
      }
    },
    {
      "cell_type": "code",
      "source": [
        "l = list(map(str, input(\"Enter words: \").split()))\n",
        "max = ''\n",
        "\n",
        "for i in l:\n",
        "  if len(i) > len(max):\n",
        "    max = i\n",
        "\n",
        "print(f\"Longest word is '{max}' and its length is {len(max)}\") #In case of 2 words of same length, it takes the first one"
      ],
      "metadata": {
        "colab": {
          "base_uri": "https://localhost:8080/"
        },
        "id": "iryWFOmOAUt1",
        "outputId": "5d1f7836-0529-48f8-d042-a607e57462d1"
      },
      "execution_count": null,
      "outputs": [
        {
          "output_type": "stream",
          "name": "stdout",
          "text": [
            "Enter words: We are humans\n",
            "Longest word is 'humans' and its length is 6\n"
          ]
        }
      ]
    },
    {
      "cell_type": "markdown",
      "source": [
        "8) Write a Python program to count the number of strings where the string length\n",
        "is 3 or more and the first and last character are same from a given list of\n",
        "strings. </br>\n",
        "Input : ['ab', 'aba', 'abaa', 'baba'] </br>\n",
        "Output : 2"
      ],
      "metadata": {
        "id": "umQ4cvHtCgqz"
      }
    },
    {
      "cell_type": "code",
      "source": [
        "l = list(map(str, input(\"Enter words: \").split()))\n",
        "count = 0\n",
        "\n",
        "for i in l:\n",
        "  if len(i) >= 3:\n",
        "    for j in l:\n",
        "      if i == j:\n",
        "        count += 0\n",
        "      elif i[0] == j[0] and i[-1] == j[-1] :\n",
        "        count += 1\n",
        "\n",
        "print(count)"
      ],
      "metadata": {
        "colab": {
          "base_uri": "https://localhost:8080/"
        },
        "id": "cj4NkuLGCtYH",
        "outputId": "86886cd7-ed2b-4962-a782-1775bab2e509"
      },
      "execution_count": null,
      "outputs": [
        {
          "output_type": "stream",
          "name": "stdout",
          "text": [
            "Enter words: ab aba abaa baba\n",
            "2\n"
          ]
        }
      ]
    },
    {
      "cell_type": "markdown",
      "source": [
        "9) Write a Python program to check a list is empty or not."
      ],
      "metadata": {
        "id": "Dp7NDzDlEqm6"
      }
    },
    {
      "cell_type": "code",
      "source": [
        "l = list(map(str, input(\"Enter words: \").split()))\n",
        "\n",
        "if len(l) == 0:\n",
        "  print(\"List is empty\")\n",
        "else:\n",
        "  print(\"List is not empty\")"
      ],
      "metadata": {
        "colab": {
          "base_uri": "https://localhost:8080/"
        },
        "id": "sQg4xG7rEt_m",
        "outputId": "9d7476f6-5309-4a3e-e011-f17d7f8b857d"
      },
      "execution_count": null,
      "outputs": [
        {
          "output_type": "stream",
          "name": "stdout",
          "text": [
            "Enter words: \n",
            "List is empty\n"
          ]
        }
      ]
    },
    {
      "cell_type": "markdown",
      "source": [
        "10) Write a Python program to take both strings and numbers in a list </br>\n",
        "a) Create separate lists of strings and numbers </br>\n",
        "b) Sort the strings list in ascending order </br>\n",
        "c) Sort the strings list in descending order </br>\n",
        "d) Sort the number list from lowest to highest </br>\n",
        "e) Sort the number list from highest to lowest"
      ],
      "metadata": {
        "id": "LhuhgwTlFWWu"
      }
    },
    {
      "cell_type": "code",
      "source": [
        "l = list(map(str, input(\"Enter elements: \").split()))\n",
        "string = []\n",
        "num = []\n",
        "\n",
        "for i in l:\n",
        "  if i.isdigit():\n",
        "    num.append(i)\n",
        "  else:\n",
        "    string.append(i)\n",
        "\n",
        "print(f\"String list = {string}\\nNumber list = {num}\")\n",
        "\n",
        "string.sort()\n",
        "print(string)\n",
        "print(string[::-1])\n",
        "num.sort()\n",
        "print(num)\n",
        "print(num[::-1])"
      ],
      "metadata": {
        "id": "h9IRAPZfGmx2",
        "colab": {
          "base_uri": "https://localhost:8080/"
        },
        "outputId": "16527184-9871-4b93-a965-e66a00e387ec"
      },
      "execution_count": 225,
      "outputs": [
        {
          "output_type": "stream",
          "name": "stdout",
          "text": [
            "Enter elements: a 7 ab 89 bcd 88 9999 eeee\n",
            "String list = ['a', 'ab', 'bcd', 'eeee']\n",
            "Number list = ['7', '89', '88', '9999']\n",
            "['a', 'ab', 'bcd', 'eeee']\n",
            "['eeee', 'bcd', 'ab', 'a']\n",
            "['7', '88', '89', '9999']\n",
            "['9999', '89', '88', '7']\n"
          ]
        }
      ]
    },
    {
      "cell_type": "markdown",
      "source": [
        "11) Write a program to add two lists index-wise. Create a new list that\n",
        "contains the 0th index item from both the list, then the 1st index item, and so\n",
        "on till the last element. any leftover items will get added at the end of the\n",
        "new list."
      ],
      "metadata": {
        "id": "T5mCb0-sIhlK"
      }
    },
    {
      "cell_type": "code",
      "source": [
        "l1 = list(map(int, input(\"Enter elements: \").split()))\n",
        "l2 = list(map(int, input(\"Enter elements: \").split()))\n",
        "l = []\n",
        "\n",
        "if len(l1) == len(l2):\n",
        "  for i in range(len(l1)):\n",
        "    l.extend([l1[i], l2[i]])\n",
        "elif len(l1) < len(l2):\n",
        "  d = len(l2) - len(l1)\n",
        "  for i in range(len(l1)):\n",
        "    l.extend([l1[i], l2[i]])\n",
        "  l + l2[-d:]\n",
        "else:\n",
        "  d = len(l1) - len(l2)\n",
        "  for i in range(len(l2)):\n",
        "    l.extend([l1[i], l2[i]])\n",
        "  l = l + l1[-d:]\n",
        "\n",
        "print(l)\n",
        "\n"
      ],
      "metadata": {
        "colab": {
          "base_uri": "https://localhost:8080/"
        },
        "id": "0t2QZHnYIlQl",
        "outputId": "9382ba61-2700-439b-bda9-939ee72c0ca9"
      },
      "execution_count": null,
      "outputs": [
        {
          "output_type": "stream",
          "name": "stdout",
          "text": [
            "Enter elements: 1 3 5 7 9\n",
            "Enter elements: 2 4 6 8\n",
            "[1, 2, 3, 4, 5, 6, 7, 8, 9]\n"
          ]
        }
      ]
    },
    {
      "cell_type": "markdown",
      "source": [
        "12) Given a Python list, write a program to remove all occurrences of item 20. </br>\n",
        "list1 = [5, 20, 15, 20, 25, 50, 20]"
      ],
      "metadata": {
        "id": "s2lHg82ANqpr"
      }
    },
    {
      "cell_type": "code",
      "source": [
        "list1 = [5, 20, 15, 20, 25, 50, 20]\n",
        "\n",
        "for i in list1:\n",
        "  if i == 20:\n",
        "    list1.remove(i)\n",
        "\n",
        "print(list1)"
      ],
      "metadata": {
        "colab": {
          "base_uri": "https://localhost:8080/"
        },
        "id": "bfgjh43lN62e",
        "outputId": "5044028f-8b57-4c35-d8a6-cdc82c7adcb8"
      },
      "execution_count": null,
      "outputs": [
        {
          "output_type": "stream",
          "name": "stdout",
          "text": [
            "[5, 15, 25, 50]\n"
          ]
        }
      ]
    },
    {
      "cell_type": "markdown",
      "source": [
        "**TUPLE**"
      ],
      "metadata": {
        "id": "LS6HG6YcPfJo"
      }
    },
    {
      "cell_type": "markdown",
      "source": [
        "1) Write a Python program to convert a tuple to a string."
      ],
      "metadata": {
        "id": "5bVIfHeWPlvx"
      }
    },
    {
      "cell_type": "code",
      "source": [
        "l = list(map(str, input(\"Enter words: \").split()))\n",
        "t = tuple(l)\n",
        "s = ''.join(t)\n",
        "print(s)"
      ],
      "metadata": {
        "colab": {
          "base_uri": "https://localhost:8080/"
        },
        "id": "HUOAD5R5PsdQ",
        "outputId": "d94e5408-6643-4160-9aab-015fdafb2ffa"
      },
      "execution_count": null,
      "outputs": [
        {
          "output_type": "stream",
          "name": "stdout",
          "text": [
            "Enter words: we wre the\n",
            "wewrethe\n"
          ]
        }
      ]
    },
    {
      "cell_type": "markdown",
      "source": [
        "2) Write a Python program to find the repeated items of a tuple"
      ],
      "metadata": {
        "id": "o3PfouLnSsq3"
      }
    },
    {
      "cell_type": "code",
      "source": [
        "l = list(map(str, input(\"Enter words: \").split()))\n",
        "t = tuple(l)\n",
        "print(t)\n",
        "\n",
        "for i in t:\n",
        "  if t.count(i) > 1:\n",
        "    print(i)"
      ],
      "metadata": {
        "colab": {
          "base_uri": "https://localhost:8080/"
        },
        "id": "Dr6nVEfvSv8e",
        "outputId": "77ff6d28-55fc-4b0c-e533-09d78ec446a6"
      },
      "execution_count": null,
      "outputs": [
        {
          "output_type": "stream",
          "name": "stdout",
          "text": [
            "Enter words: we r t we k t\n",
            "('we', 'r', 't', 'we', 'k', 't')\n",
            "we\n",
            "t\n",
            "we\n",
            "t\n"
          ]
        }
      ]
    },
    {
      "cell_type": "markdown",
      "source": [
        "3) Write a Python program to convert a list to a tuple."
      ],
      "metadata": {
        "id": "XyErlTrmZfMx"
      }
    },
    {
      "cell_type": "code",
      "source": [
        "l = l = list(map(str, input(\"Enter words: \").split()))\n",
        "t = tuple(l)\n",
        "\n",
        "print(t)"
      ],
      "metadata": {
        "colab": {
          "base_uri": "https://localhost:8080/"
        },
        "id": "hobAEDLnZjjI",
        "outputId": "5bd1b961-cd64-48e1-8194-33abcd9861f9"
      },
      "execution_count": null,
      "outputs": [
        {
          "output_type": "stream",
          "name": "stdout",
          "text": [
            "Enter words: life is precious \n",
            "('life', 'is', 'precious')\n"
          ]
        }
      ]
    },
    {
      "cell_type": "markdown",
      "source": [
        "4) Write a Python program to reverse a tuple."
      ],
      "metadata": {
        "id": "UhRXsUG-Z1M3"
      }
    },
    {
      "cell_type": "code",
      "source": [
        "l = l = list(map(str, input(\"Enter words: \").split()))\n",
        "t = tuple(l)\n",
        "reverse = t[::-1]\n",
        "\n",
        "print(f\"Tuple: {t}\\nReverse tuple: {reverse}\")"
      ],
      "metadata": {
        "colab": {
          "base_uri": "https://localhost:8080/"
        },
        "id": "D37BGL-dZ5Ks",
        "outputId": "75a93945-5a62-410a-ea25-1f5655d5d353"
      },
      "execution_count": null,
      "outputs": [
        {
          "output_type": "stream",
          "name": "stdout",
          "text": [
            "Enter words: here we go\n",
            "Tuple: ('here', 'we', 'go')\n",
            "Reverse tuple: ('go', 'we', 'here')\n"
          ]
        }
      ]
    },
    {
      "cell_type": "markdown",
      "source": [
        "5) Write a Python program to remove an empty tuple(s) from a list of tuples"
      ],
      "metadata": {
        "id": "FTnXJ2nTapeP"
      }
    },
    {
      "cell_type": "code",
      "source": [
        "n = int(input(\"Enter a no.: \"))\n",
        "l = []\n",
        "\n",
        "for i in range(n):\n",
        "  l.append([])\n",
        "  e = int(input('Enter no. of elements: '))\n",
        "  for j in range(e):\n",
        "    num = int(input())\n",
        "    l[i].append(num)\n",
        "\n",
        "tup = list(map(tuple, l))\n",
        "print(tup)\n",
        "tup = [t for t in tup if t]\n",
        "print(tup)"
      ],
      "metadata": {
        "colab": {
          "base_uri": "https://localhost:8080/"
        },
        "id": "Q_cgOYWdauJ8",
        "outputId": "94639e42-02ce-4f2f-cdb9-71c484d3c59a"
      },
      "execution_count": null,
      "outputs": [
        {
          "output_type": "stream",
          "name": "stdout",
          "text": [
            "Enter a no.: 4\n",
            "Enter no. of elements: 3\n",
            "2\n",
            "4\n",
            "6\n",
            "Enter no. of elements: 0\n",
            "Enter no. of elements: 2\n",
            "1\n",
            "3\n",
            "Enter no. of elements: 0\n",
            "[(2, 4, 6), (), (1, 3), ()]\n",
            "[(2, 4, 6), (1, 3)]\n"
          ]
        }
      ]
    },
    {
      "cell_type": "markdown",
      "source": [
        "6) Write a Python program to replace middle value of tuples in a list."
      ],
      "metadata": {
        "id": "8NMTzLzxgLIB"
      }
    },
    {
      "cell_type": "code",
      "source": [
        "n = int(input(\"Enter no. of list: \"))\n",
        "l = []\n",
        "\n",
        "for i in range(n):\n",
        "  l.append([])\n",
        "  e = int(input('Enter no. of elements: '))\n",
        "  for j in range(e):\n",
        "    num = input()\n",
        "    l[i].append(num)\n",
        "\n",
        "t = list(map(tuple, l))\n",
        "for i in range(n):\n",
        "  length = len(l[i])\n",
        "  mid = length//2\n",
        "  if length%2 == 0:\n",
        "    l[i][mid-1] = '@'\n",
        "    l[i][mid] = '@'  \n",
        "  else:\n",
        "    l[i][mid] = '@'\n",
        "\n",
        "print(l)"
      ],
      "metadata": {
        "colab": {
          "base_uri": "https://localhost:8080/"
        },
        "id": "UqvToHVAgWBE",
        "outputId": "745632aa-a713-4907-eb39-7520cdbd0fc5"
      },
      "execution_count": null,
      "outputs": [
        {
          "output_type": "stream",
          "name": "stdout",
          "text": [
            "Enter no. of list: 3\n",
            "Enter no. of elements: 3\n",
            "1\n",
            "2\n",
            "3\n",
            "Enter no. of elements: 4\n",
            "2\n",
            "4\n",
            "6\n",
            "8\n",
            "Enter no. of elements: 5\n",
            "9\n",
            "7\n",
            "5\n",
            "3\n",
            "1\n",
            "[['1', '@', '3'], ['2', '@', '@', '8'], ['9', '7', '@', '3', '1']]\n"
          ]
        }
      ]
    },
    {
      "cell_type": "markdown",
      "source": [
        "7) Write a Python program to get 5th element from last of a\n",
        "tuple."
      ],
      "metadata": {
        "id": "OB_qbBHxEVWC"
      }
    },
    {
      "cell_type": "code",
      "source": [
        "l = l = list(map(int, input(\"Enter elements: \").split()))\n",
        "t = tuple(l)\n",
        "\n",
        "print(t[-5])"
      ],
      "metadata": {
        "colab": {
          "base_uri": "https://localhost:8080/"
        },
        "id": "f1ogRAJW95DX",
        "outputId": "47459ff9-a049-47e3-c8e7-2802269e6143"
      },
      "execution_count": null,
      "outputs": [
        {
          "output_type": "stream",
          "name": "stdout",
          "text": [
            "Enter elements: 1 2 3 4 5 6 7 8\n",
            "4\n"
          ]
        }
      ]
    },
    {
      "cell_type": "markdown",
      "source": [
        "8) Write a Python program to check if two given sets have no elements in common."
      ],
      "metadata": {
        "id": "BN2OmFLqFE_K"
      }
    },
    {
      "cell_type": "code",
      "source": [
        "s1 = input()\n",
        "s2 = input()\n",
        "\n",
        "set1 = set(s1)\n",
        "set2 = set(s2)\n",
        "\n",
        "print(set1.isdisjoint(set2))"
      ],
      "metadata": {
        "colab": {
          "base_uri": "https://localhost:8080/"
        },
        "id": "wI_-RNBRFMC4",
        "outputId": "620f5f6f-7c27-43eb-a207-7b825710c7f5"
      },
      "execution_count": null,
      "outputs": [
        {
          "output_type": "stream",
          "name": "stdout",
          "text": [
            "2 3 4 5\n",
            "3 4 5 6\n",
            "False\n"
          ]
        }
      ]
    },
    {
      "cell_type": "markdown",
      "source": [
        "9) Write a Python program to check whether an element exists within a tuple."
      ],
      "metadata": {
        "id": "oqRU2ma-FvM4"
      }
    },
    {
      "cell_type": "code",
      "source": [
        "l = l = list(map(int, input(\"Enter elements: \").split()))\n",
        "t = tuple(l)\n",
        "\n",
        "e = int(input(\"Enter a element to check: \"))\n",
        "print(e in t)"
      ],
      "metadata": {
        "colab": {
          "base_uri": "https://localhost:8080/"
        },
        "id": "HuR8CEbUF0KZ",
        "outputId": "bec8186f-08a7-4940-c1c4-7c35a272c4c1"
      },
      "execution_count": null,
      "outputs": [
        {
          "output_type": "stream",
          "name": "stdout",
          "text": [
            "Enter elements: 23 45 67 8\n",
            "Enter a element to check: 45\n",
            "True\n"
          ]
        }
      ]
    },
    {
      "cell_type": "markdown",
      "source": [
        "10) Write a Python program to check if a given value is present in a set or not."
      ],
      "metadata": {
        "id": "XvQZf9MjGMFW"
      }
    },
    {
      "cell_type": "code",
      "source": [
        "s = list(map(int, input(\"Enter elements: \").split()))\n",
        "set1 = set(s)\n",
        "\n",
        "e = input(\"Enter a element to check: \")\n",
        "print(e in set1)"
      ],
      "metadata": {
        "colab": {
          "base_uri": "https://localhost:8080/"
        },
        "id": "vUSg0ihYGPPn",
        "outputId": "6177435e-5328-49f7-8d3e-3770eb6d9950"
      },
      "execution_count": null,
      "outputs": [
        {
          "output_type": "stream",
          "name": "stdout",
          "text": [
            "Enter elements: 1 2 3 4 5 6\n",
            "Enter a element to check: 7\n",
            "False\n"
          ]
        }
      ]
    },
    {
      "cell_type": "markdown",
      "source": [
        "11) Write a Python program to check if a given set is superset of itself and superset\n",
        "of\n",
        "another given set."
      ],
      "metadata": {
        "id": "e4FVvAHmGeiC"
      }
    },
    {
      "cell_type": "code",
      "source": [
        "s = list(map(int, input(\"Enter elements: \").split()))\n",
        "set1 = set(s)\n",
        "\n",
        "print(set1.issuperset(set1))\n",
        "\n",
        "s1 = list(map(int, input(\"Enter elements: \").split()))\n",
        "set2 = set(s1)\n",
        "\n",
        "print(set1 > set2)\n"
      ],
      "metadata": {
        "colab": {
          "base_uri": "https://localhost:8080/"
        },
        "id": "yZTgTe8JGi_O",
        "outputId": "b73e0e94-187c-4459-d4ba-8d073a49099e"
      },
      "execution_count": null,
      "outputs": [
        {
          "output_type": "stream",
          "name": "stdout",
          "text": [
            "Enter elements: 1 2 3 4 5 6\n",
            "True\n",
            "Enter elements: 2 3 4 \n",
            "True\n"
          ]
        }
      ]
    },
    {
      "cell_type": "markdown",
      "source": [
        "12) Write a Python program to create a union, intersection, difference, symmetric\n",
        "difference of sets."
      ],
      "metadata": {
        "id": "bFswNgApHDf5"
      }
    },
    {
      "cell_type": "code",
      "source": [
        "s = list(map(int, input(\"Enter elements: \").split()))\n",
        "set1 = set(s)\n",
        "\n",
        "s1 = list(map(int, input(\"Enter elements: \").split()))\n",
        "set2 = set(s1)\n",
        "\n",
        "print(set1 | set2)\n",
        "print(set1 & set2)\n",
        "print(set1 - set2)\n",
        "print(set1 ^ set2)"
      ],
      "metadata": {
        "colab": {
          "base_uri": "https://localhost:8080/"
        },
        "id": "8hZiOWQYHILA",
        "outputId": "d39e44ed-877c-4649-cc9e-91e57e151597"
      },
      "execution_count": null,
      "outputs": [
        {
          "output_type": "stream",
          "name": "stdout",
          "text": [
            "Enter elements: 2 4 6 8\n",
            "Enter elements: 1 2 3 \n",
            "{1, 2, 3, 4, 6, 8}\n",
            "{2}\n",
            "{8, 4, 6}\n",
            "{1, 3, 4, 6, 8}\n"
          ]
        }
      ]
    },
    {
      "cell_type": "markdown",
      "source": [
        "13) Write a Python program to remove the intersection of a 2nd set from the 1st set."
      ],
      "metadata": {
        "id": "8YSuRYOwIv68"
      }
    },
    {
      "cell_type": "code",
      "source": [
        "s =  list(map(int, input(\"Enter elements: \").split()))\n",
        "set1 = set(s)\n",
        "\n",
        "s1 = list(map(int, input(\"Enter elements: \").split()))\n",
        "set2 = set(s1)\n",
        "\n",
        "print(set1.difference_update(set2))\n",
        "print(set1)\n",
        "print(set2)"
      ],
      "metadata": {
        "colab": {
          "base_uri": "https://localhost:8080/"
        },
        "id": "6Ue7yYrFIzHh",
        "outputId": "65af6a56-d9ab-42b7-c638-9bd19fc2cef4"
      },
      "execution_count": null,
      "outputs": [
        {
          "output_type": "stream",
          "name": "stdout",
          "text": [
            "Enter elements: 1 2 3 4 5\n",
            "Enter elements: 3 4 5 6\n",
            "None\n",
            "{1, 2}\n",
            "{3, 4, 5, 6}\n"
          ]
        }
      ]
    },
    {
      "cell_type": "markdown",
      "source": [
        "**DICTIONARY**"
      ],
      "metadata": {
        "id": "4GGYjvYnKDqN"
      }
    },
    {
      "cell_type": "markdown",
      "source": [
        "1) Write a Python program to multiply all the items in a dictionary."
      ],
      "metadata": {
        "id": "03hEj-rQKGfA"
      }
    },
    {
      "cell_type": "code",
      "source": [
        "num = int(input(\"Enter number of elements in the dict: \"))\n",
        "d = dict()\n",
        "for i in range(num):\n",
        "  key = input(\"Enter key : \")\n",
        "  value = int(input(\"Enter values :\"))\n",
        "  d.update({key: value})\n",
        "\n",
        "n = 1\n",
        "\n",
        "for i in d:\n",
        "  n *= d[i]\n",
        "\n",
        "print(n)"
      ],
      "metadata": {
        "colab": {
          "base_uri": "https://localhost:8080/"
        },
        "id": "QfjKuVcYKIKk",
        "outputId": "302f0869-8e1e-443e-82e8-882be62de1df"
      },
      "execution_count": null,
      "outputs": [
        {
          "output_type": "stream",
          "name": "stdout",
          "text": [
            "Enter number of elements in the dict: 5\n",
            "Enter key : a\n",
            "Enter values :2\n",
            "Enter key : b\n",
            "Enter values :6\n",
            "Enter key : c\n",
            "Enter values :10\n",
            "Enter key : d\n",
            "Enter values :1\n",
            "Enter key : e\n",
            "Enter values :2\n",
            "240\n"
          ]
        }
      ]
    },
    {
      "cell_type": "markdown",
      "source": [
        "2) Write a Python program to remove duplicates from Dictionary."
      ],
      "metadata": {
        "id": "JtQvffRINNPc"
      }
    },
    {
      "cell_type": "code",
      "source": [
        "num = int(input(\"Enter number of elements in the dict: \"))\n",
        "d = dict()\n",
        "for i in range(num):\n",
        "  key = input(\"Enter key : \")\n",
        "  value = int(input(\"Enter values :\"))\n",
        "  d.update({key: value})\n",
        "\n",
        "print(d)\n",
        "l = []\n",
        "new_d = dict()\n",
        "for k, v in d.items():\n",
        "  if v not in l:\n",
        "    l.append(v)\n",
        "    new_d[k] = v\n",
        "\n",
        "print(new_d)"
      ],
      "metadata": {
        "colab": {
          "base_uri": "https://localhost:8080/"
        },
        "id": "g6kh1zWsNV1r",
        "outputId": "35ac002e-3beb-400b-895c-142148d2878e"
      },
      "execution_count": null,
      "outputs": [
        {
          "output_type": "stream",
          "name": "stdout",
          "text": [
            "Enter number of elements in the dict: 5\n",
            "Enter key : a\n",
            "Enter values :2\n",
            "Enter key : b\n",
            "Enter values :1\n",
            "Enter key : c\n",
            "Enter values :2\n",
            "Enter key : d\n",
            "Enter values :3\n",
            "Enter key : e\n",
            "Enter values :6\n",
            "{'a': 2, 'b': 1, 'c': 2, 'd': 3, 'e': 6}\n",
            "{'a': 2, 'b': 1, 'd': 3, 'e': 6}\n"
          ]
        }
      ]
    },
    {
      "cell_type": "markdown",
      "source": [
        "3) Write a Python program to combine two dictionary adding values for common\n",
        "keys. </br>\n",
        "dict1 = {'k1': 10, 'k2': 20, 'k3':30} </br>\n",
        "dict2 = {'k1': 30, 'k2': 20, 'k4':40} </br>\n",
        "Sample output: Counter({'k1': 40, 'k2': 40, 'k4': 40, 'k3': 30})"
      ],
      "metadata": {
        "id": "hw_vtmI-S2Y0"
      }
    },
    {
      "cell_type": "code",
      "source": [
        "from collections import Counter\n",
        "\n",
        "num = int(input(\"Enter number of elements in the dict: \"))\n",
        "d1 = dict()\n",
        "d2 = dict()\n",
        "\n",
        "for i in range(num):\n",
        "  key1 = input(\"Enter key : \")\n",
        "  value1 = int(input(\"Enter values :\"))\n",
        "  d1.update({key1: value1})\n",
        "  key2 = input(\"Enter key : \")\n",
        "  value2 = int(input(\"Enter values :\"))\n",
        "  d2.update({key2: value2})\n",
        "\n",
        "d = Counter(d1) + Counter(d2)\n",
        "print(d)"
      ],
      "metadata": {
        "colab": {
          "base_uri": "https://localhost:8080/"
        },
        "id": "Z_s_JMqUS_t_",
        "outputId": "221f100d-f9e8-4453-87d1-2f994215e8eb"
      },
      "execution_count": null,
      "outputs": [
        {
          "output_type": "stream",
          "name": "stdout",
          "text": [
            "Enter number of elements in the dict: 3\n",
            "Enter key : k1\n",
            "Enter values :10\n",
            "Enter key : k2\n",
            "Enter values :20\n",
            "Enter key : k3\n",
            "Enter values :30\n",
            "Enter key : k1\n",
            "Enter values :30\n",
            "Enter key : k2\n",
            "Enter values :30\n",
            "Enter key : k4\n",
            "Enter values :50\n",
            "Counter({'k2': 50, 'k4': 50, 'k1': 40, 'k3': 30})\n"
          ]
        }
      ]
    },
    {
      "cell_type": "markdown",
      "source": [
        "4) Write a Python program to find the highest 3 values of corresponding keys in\n",
        "a dictionary."
      ],
      "metadata": {
        "id": "rDlcXoH5ekcU"
      }
    },
    {
      "cell_type": "code",
      "source": [
        "num = int(input(\"Enter number of elements in the dict: \"))\n",
        "d = dict()\n",
        "for i in range(num):\n",
        "  key = input(\"Enter key : \")\n",
        "  value = int(input(\"Enter values :\"))\n",
        "  d.update({key: value})\n",
        "\n",
        "d2 = dict(sorted(d.items(),key= lambda x:x[1]))\n",
        "\n",
        "for i in list(d2)[-3:]:\n",
        "  print(i, d2[i])"
      ],
      "metadata": {
        "colab": {
          "base_uri": "https://localhost:8080/"
        },
        "id": "MQIaAwT_e5JE",
        "outputId": "f187858c-3594-4587-b2d6-ca9f22514402"
      },
      "execution_count": null,
      "outputs": [
        {
          "output_type": "stream",
          "name": "stdout",
          "text": [
            "Enter number of elements in the dict: 7\n",
            "Enter key : a\n",
            "Enter values :7\n",
            "Enter key : b\n",
            "Enter values :1\n",
            "Enter key : c\n",
            "Enter values :0\n",
            "Enter key : d\n",
            "Enter values :3\n",
            "Enter key : e\n",
            "Enter values :9\n",
            "Enter key : f\n",
            "Enter values :23\n",
            "Enter key : g\n",
            "Enter values :4\n",
            "a 7\n",
            "e 9\n",
            "f 23\n"
          ]
        }
      ]
    },
    {
      "cell_type": "markdown",
      "source": [
        "5) Write a Python program to create a dictionary from a string. </br>\n",
        "Note: Track the count of the letters from the string. </br>\n",
        "Sample string : 'amazon' </br>\n",
        "Expected output: {'a': 2, 'm': 1, 'z': t, 'o': 1, 'n': 1}"
      ],
      "metadata": {
        "id": "U8QUG-cJggLy"
      }
    },
    {
      "cell_type": "code",
      "source": [
        "s = input()\n",
        "d = dict()\n",
        "count = 0\n",
        "\n",
        "for i in s:\n",
        "  if i not in d:\n",
        "    count = 1\n",
        "  else:\n",
        "    count += 1\n",
        "  d.update({i:count})\n",
        "\n",
        "print(d)"
      ],
      "metadata": {
        "colab": {
          "base_uri": "https://localhost:8080/"
        },
        "id": "HuqGW0kGgs5w",
        "outputId": "3b34d285-4144-4200-cfc3-7b3f673c14c7"
      },
      "execution_count": null,
      "outputs": [
        {
          "output_type": "stream",
          "name": "stdout",
          "text": [
            "amazon\n",
            "{'a': 2, 'm': 1, 'z': 1, 'o': 1, 'n': 1}\n"
          ]
        }
      ]
    },
    {
      "cell_type": "markdown",
      "source": [
        "6) Write a Python program to print a dictionary line by line."
      ],
      "metadata": {
        "id": "agx-ycZ6isa8"
      }
    },
    {
      "cell_type": "code",
      "source": [
        "num = int(input(\"Enter number of elements in the dict: \"))\n",
        "d = dict()\n",
        "for i in range(num):\n",
        "  key = input(\"Enter key : \")\n",
        "  value = input(\"Enter values :\")\n",
        "  d.update({key: value})\n",
        "\n",
        "for i in d:\n",
        "  print(i, d[i])\n"
      ],
      "metadata": {
        "colab": {
          "base_uri": "https://localhost:8080/"
        },
        "id": "OuBwKHAiiwjD",
        "outputId": "7c255b57-3a39-40b7-afec-722e796c3fdf"
      },
      "execution_count": null,
      "outputs": [
        {
          "output_type": "stream",
          "name": "stdout",
          "text": [
            "Enter number of elements in the dict: 3\n",
            "Enter key : 1\n",
            "Enter values :Alex\n",
            "Enter key : 2\n",
            "Enter values :Bob\n",
            "Enter key : 3\n",
            "Enter values :Carla\n",
            "1 Alex\n",
            "2 Bob\n",
            "3 Carla\n"
          ]
        }
      ]
    },
    {
      "cell_type": "markdown",
      "source": [
        "7) Write a Python program to replace dictionary values with their average"
      ],
      "metadata": {
        "id": "ECk8aqyujak9"
      }
    },
    {
      "cell_type": "code",
      "source": [
        "num = int(input(\"Enter number of elements in the dict: \"))\n",
        "d = dict()\n",
        "for i in range(num):\n",
        "  key = input(\"Enter key : \")\n",
        "  value = int(input(\"Enter values :\"))\n",
        "  d.update({key: value})\n",
        "\n",
        "sum = 0\n",
        "for i in d:\n",
        "  sum += d[i]\n",
        "\n",
        "for i in d:\n",
        "  d[i] = round(sum/num, 2)\n",
        "\n",
        "print(d)"
      ],
      "metadata": {
        "colab": {
          "base_uri": "https://localhost:8080/"
        },
        "id": "pkg17ZJejd6e",
        "outputId": "d5066b38-23b0-4b57-d8a4-2c835684d4d4"
      },
      "execution_count": null,
      "outputs": [
        {
          "output_type": "stream",
          "name": "stdout",
          "text": [
            "Enter number of elements in the dict: 3\n",
            "Enter key : Alex\n",
            "Enter values :90\n",
            "Enter key : Bob \n",
            "Enter values :80\n",
            "Enter key : Carla\n",
            "Enter values :60\n",
            "{'Alex': 76.67, 'Bob ': 76.67, 'Carla': 76.67}\n"
          ]
        }
      ]
    },
    {
      "cell_type": "markdown",
      "source": [
        "8) Write a Python program to drop empty Items from a given Dictionary. </br>\n",
        "Original Dictionary: </br>\n",
        "{'c1': 'CS, 'c2': 'IT', 'c3': None} </br>\n",
        "New Dictionary after dropping empty items: </br>\n",
        "{'c1': 'CS', 'c2': 'IT'}"
      ],
      "metadata": {
        "id": "SvBmmn3MkTIw"
      }
    },
    {
      "cell_type": "code",
      "source": [
        "num = int(input(\"Enter number of elements in the dict: \"))\n",
        "d = dict()\n",
        "for i in range(num):\n",
        "  key = input(\"Enter key : \")\n",
        "  value = input(\"Enter values :\")\n",
        "  d.update({key: value})\n",
        "\n",
        "d = {key:value for (key, value) in d.items() if value is not ''}\n",
        "print(d)\n"
      ],
      "metadata": {
        "colab": {
          "base_uri": "https://localhost:8080/"
        },
        "id": "PenI7-llkdbq",
        "outputId": "4c7f5b93-2418-43a8-85e6-9e49c846df1e"
      },
      "execution_count": null,
      "outputs": [
        {
          "output_type": "stream",
          "name": "stdout",
          "text": [
            "Enter number of elements in the dict: 3\n",
            "Enter key : c1\n",
            "Enter values :CS\n",
            "Enter key : c2\n",
            "Enter values :IT\n",
            "Enter key : c3\n",
            "Enter values :\n",
            "{'c1': 'CS', 'c2': 'IT'}\n"
          ]
        }
      ]
    },
    {
      "cell_type": "markdown",
      "source": [
        "9) Write a Python program to filter the height and weight of students, which are\n",
        "stored in a dictionary. </br>\n",
        "Original Dictionary: </br>\n",
        "{'Ram': (6.2, 70), 'Sita': (5.9, 65), 'Hari': (6.0, 68), 'Gopal': (5.8, 66)} </br>\n",
        "Height > 6ft and Weight> 65kg: </br>\n",
        "{'Ram': (6.2, 70)}"
      ],
      "metadata": {
        "id": "ysu_TlmDoBh9"
      }
    },
    {
      "cell_type": "code",
      "source": [
        "d = {'Ram': (6.2, 70), 'Sita': (5.9, 65), 'Hari': (6.0, 68), 'Gopal': (5.8, 66)}\n",
        "d1 = dict()\n",
        "\n",
        "for i in d:\n",
        "  if d[i][0] > 6 and d[i][1] > 65:\n",
        "    d1.update({i: d[i]})\n",
        "\n",
        "print(d1) "
      ],
      "metadata": {
        "colab": {
          "base_uri": "https://localhost:8080/"
        },
        "id": "wbO9x-tsmNEH",
        "outputId": "90dbffd8-c9b8-4a7d-d581-f4873293ecf7"
      },
      "execution_count": null,
      "outputs": [
        {
          "output_type": "stream",
          "name": "stdout",
          "text": [
            "{'Ram': (6.2, 70)}\n"
          ]
        }
      ]
    }
  ]
}